{
  "nbformat": 4,
  "nbformat_minor": 0,
  "metadata": {
    "colab": {
      "name": "Poly Regression.ipynb",
      "provenance": [],
      "authorship_tag": "ABX9TyOVD+5AdvYbs/424+F3NdW1",
      "include_colab_link": true
    },
    "kernelspec": {
      "name": "python3",
      "display_name": "Python 3"
    },
    "language_info": {
      "name": "python"
    }
  },
  "cells": [
    {
      "cell_type": "markdown",
      "metadata": {
        "id": "view-in-github",
        "colab_type": "text"
      },
      "source": [
        "<a href=\"https://colab.research.google.com/github/SethupathyM/Supervised-ML---Regression/blob/main/Poly_Regression.ipynb\" target=\"_parent\"><img src=\"https://colab.research.google.com/assets/colab-badge.svg\" alt=\"Open In Colab\"/></a>"
      ]
    },
    {
      "cell_type": "code",
      "execution_count": 1,
      "metadata": {
        "id": "PoKlBPYBEwOs"
      },
      "outputs": [],
      "source": [
        "# Importing\n",
        "import numpy as np\n",
        "import pandas as pd\n",
        "from numpy import math\n",
        "from collections import Counter\n",
        "from sklearn.preprocessing import MinMaxScaler\n",
        "from sklearn.model_selection import train_test_split\n",
        "from sklearn.linear_model import LinearRegression\n",
        "from sklearn.metrics import r2_score\n",
        "from sklearn.metrics import mean_squared_error\n",
        "import seaborn as sns\n",
        "import matplotlib.pyplot as plt\n",
        "import warnings\n",
        "warnings.filterwarnings('ignore')\n",
        "from statsmodels.stats.outliers_influence import variance_inflation_factor\n"
      ]
    },
    {
      "cell_type": "code",
      "source": [
        "# Mounting Drive\n",
        "from google.colab import drive\n",
        "drive.mount('/content/Mydrive')"
      ],
      "metadata": {
        "colab": {
          "base_uri": "https://localhost:8080/"
        },
        "id": "wq1TJp8uE5y8",
        "outputId": "bd95a62b-e3b1-45bf-dc4b-15e5c26d0a40"
      },
      "execution_count": 2,
      "outputs": [
        {
          "output_type": "stream",
          "name": "stdout",
          "text": [
            "Mounted at /content/Mydrive\n"
          ]
        }
      ]
    },
    {
      "cell_type": "code",
      "source": [
        "# reading the data\n",
        "data = pd.read_csv('/content/Mydrive/MyDrive/AlmaBetter/Modules/Machine Learning/Projects/Copy of SeoulBikeData.csv',encoding= 'unicode_escape')"
      ],
      "metadata": {
        "id": "hs1gUu30E57c"
      },
      "execution_count": 28,
      "outputs": []
    },
    {
      "cell_type": "code",
      "source": [
        "data['Temperature'] = data['Temperature(°C)'] + data['Dew point temperature(°C)']\n",
        "data.drop('Temperature(°C)',axis = 1,inplace = True)\n",
        "data.drop('Dew point temperature(°C)',axis = 1,inplace = True)"
      ],
      "metadata": {
        "id": "k7A1r7O1E6Az"
      },
      "execution_count": 29,
      "outputs": []
    },
    {
      "cell_type": "code",
      "source": [
        "# OneHotEncoding\n",
        "data = pd.get_dummies(data, columns=['Seasons', 'Holiday', 'Functioning Day','Hour'], prefix=['Season', 'Holiday','Functioning Day','Hour'])"
      ],
      "metadata": {
        "id": "jmqSFqRzE6De"
      },
      "execution_count": 30,
      "outputs": []
    },
    {
      "cell_type": "code",
      "source": [
        "data.drop(['Season_Autumn','Holiday_Holiday','Functioning Day_No','Hour_23'],axis = 1,inplace = True)"
      ],
      "metadata": {
        "id": "CWgz1w13E6GQ"
      },
      "execution_count": 32,
      "outputs": []
    },
    {
      "cell_type": "code",
      "source": [
        "final_indep = list(data.columns)\n",
        "final_indep.remove('Date')\n",
        "final_indep.remove('Rented Bike Count')\n",
        "\n",
        "final_dep = ['Rented Bike Count']\n",
        "print(final_indep)\n",
        "print(final_dep)\n",
        "x = data[final_indep].values\n",
        "y = data[final_dep].values\n",
        "print(len(final_indep))"
      ],
      "metadata": {
        "colab": {
          "base_uri": "https://localhost:8080/"
        },
        "id": "wNzmx0OCE6JU",
        "outputId": "f76c6563-46a7-4d2b-e602-02a0ddadbe0b"
      },
      "execution_count": 40,
      "outputs": [
        {
          "output_type": "stream",
          "name": "stdout",
          "text": [
            "['Humidity(%)', 'Wind speed (m/s)', 'Visibility (10m)', 'Solar Radiation (MJ/m2)', 'Rainfall(mm)', 'Snowfall (cm)', 'Temperature', 'Season_Spring', 'Season_Summer', 'Season_Winter', 'Holiday_No Holiday', 'Functioning Day_Yes', 'Hour_0', 'Hour_1', 'Hour_2', 'Hour_3', 'Hour_4', 'Hour_5', 'Hour_6', 'Hour_7', 'Hour_8', 'Hour_9', 'Hour_10', 'Hour_11', 'Hour_12', 'Hour_13', 'Hour_14', 'Hour_15', 'Hour_16', 'Hour_17', 'Hour_18', 'Hour_19', 'Hour_20', 'Hour_21', 'Hour_22']\n",
            "['Rented Bike Count']\n",
            "35\n"
          ]
        }
      ]
    },
    {
      "cell_type": "code",
      "source": [
        ""
      ],
      "metadata": {
        "id": "B7xIpJwkDHAk"
      },
      "execution_count": null,
      "outputs": []
    },
    {
      "cell_type": "code",
      "source": [
        "# Train_Test_Split\n",
        "x_train,x_test,y_train,y_test = train_test_split(x,y,test_size = 0.2,random_state = 0)\n",
        "# Transforming data\n",
        "scaler = MinMaxScaler()\n",
        "x_train = scaler.fit_transform(x_train)\n",
        "x_test = scaler.transform(x_test)"
      ],
      "metadata": {
        "id": "_RI2HT3xE6L5"
      },
      "execution_count": 53,
      "outputs": []
    },
    {
      "cell_type": "code",
      "source": [
        "# Poly Regression\n",
        "from sklearn.preprocessing import PolynomialFeatures\n",
        "poly_features = PolynomialFeatures(degree=2)\n",
        "x_train_poly = poly_features.fit_transform(x_train)\n",
        "poly_model = LinearRegression()\n",
        "poly_model.fit(x_train_poly, y_train)\n",
        "y_train_predicted = poly_model.predict(x_train_poly)\n",
        "y_test_predict = poly_model.predict(poly_features.fit_transform(x_test))"
      ],
      "metadata": {
        "id": "oeSaGSxhFc4D"
      },
      "execution_count": 54,
      "outputs": []
    },
    {
      "cell_type": "code",
      "source": [
        "from sklearn.metrics import r2_score\n",
        "print('Train R2:',r2_score(y_train,y_train_predicted))\n",
        "print('Test R2:',r2_score(y_test, y_test_predict))\n",
        "print(\"Adjusted R2 : \",1-(1-r2_score(y_test, y_test_predict))*((x_test.shape[0]-1)/(x_test.shape[0]-x_test.shape[1]-1)))"
      ],
      "metadata": {
        "colab": {
          "base_uri": "https://localhost:8080/"
        },
        "id": "XMtmGtNMF7BE",
        "outputId": "491f70b1-8e66-4b61-ddb3-cbd59f25d034"
      },
      "execution_count": 55,
      "outputs": [
        {
          "output_type": "stream",
          "name": "stdout",
          "text": [
            "Train R2: 0.8440246346072366\n",
            "Test R2: 0.8316676130823694\n",
            "Adjusted R2 :  0.8282342602023478\n"
          ]
        }
      ]
    },
    {
      "cell_type": "code",
      "source": [
        "# Lasso\n",
        "from sklearn.linear_model import Lasso\n",
        "lasso  = Lasso(alpha=0.0001 , max_iter= 3000)\n",
        "lasso.fit(x_train_poly, y_train)\n",
        "lasso.score(x_train_poly, y_train)\n",
        "y_train_predicted_l = poly_model.predict(x_train_poly)\n",
        "y_test_predict_l = poly_model.predict(poly_features.fit_transform(x_test))\n",
        "print('Train R2:',r2_score(y_train,y_train_predicted_l))\n",
        "print('Test R2:',r2_score(y_test, y_test_predict_l))\n",
        "print(\"Adjusted R2 : \",1-(1-r2_score(y_test, y_test_predict_l))*((x_test.shape[0]-1)/(x_test.shape[0]-x_test.shape[1]-1)))"
      ],
      "metadata": {
        "colab": {
          "base_uri": "https://localhost:8080/"
        },
        "id": "L8p4b0hhRgj4",
        "outputId": "04f598f1-adff-445b-d214-e14e20d1ddd7"
      },
      "execution_count": 37,
      "outputs": [
        {
          "output_type": "stream",
          "name": "stdout",
          "text": [
            "Train R2: 0.844024717875719\n",
            "Test R2: 0.8316679388592417\n",
            "Adjusted R2 :  0.8282345926238533\n"
          ]
        }
      ]
    },
    {
      "cell_type": "code",
      "source": [
        "# Ridge\n",
        "from sklearn.linear_model import Ridge\n",
        "ridge  = Ridge(alpha=0.0001 , max_iter= 3000)\n",
        "ridge.fit(x_train_poly, y_train)\n",
        "ridge.score(x_train_poly, y_train)\n",
        "y_train_predicted_r = poly_model.predict(x_train_poly)\n",
        "y_test_predict_r = poly_model.predict(poly_features.fit_transform(x_test))\n",
        "print('Train R2:',r2_score(y_train,y_train_predicted_r))\n",
        "print('Test R2:',r2_score(y_test, y_test_predict_r))\n",
        "print(\"Adjusted R2 : \",1-(1-r2_score(y_test, y_test_predict_r))*((x_test.shape[0]-1)/(x_test.shape[0]-x_test.shape[1]-1)))"
      ],
      "metadata": {
        "colab": {
          "base_uri": "https://localhost:8080/"
        },
        "id": "FyufzS6yRvdH",
        "outputId": "ee0c1bc5-8e8e-447e-bad1-488b757c8465"
      },
      "execution_count": 38,
      "outputs": [
        {
          "output_type": "stream",
          "name": "stdout",
          "text": [
            "Train R2: 0.844024717875719\n",
            "Test R2: 0.8316679388592417\n",
            "Adjusted R2 :  0.8282345926238533\n"
          ]
        }
      ]
    },
    {
      "cell_type": "code",
      "source": [
        "# Cross Validation for Lasso\n",
        "from sklearn.model_selection import GridSearchCV\n",
        "lasso = Lasso()\n",
        "parameters = {'alpha': [1e-15,1e-13,1e-10,1e-8,1e-5,1e-4,1e-3,1e-2,1e-1,1,5,10,20,30,40,45,50,55,60,100,0.0014]}\n",
        "lasso_regressor = GridSearchCV(lasso, parameters, scoring='neg_mean_squared_error', cv=5)\n",
        "lasso_regressor.fit(x_train_poly, y_train)\n",
        "y_train_predicted_lasso = lasso_regressor.predict(x_train_poly)\n",
        "y_test_predict_lasso = lasso_regressor.predict(poly_features.fit_transform(x_test))\n",
        "mean_squared_error(y_test, y_test_predict_lasso)\n",
        "from sklearn.metrics import r2_score\n",
        "print(r2_score(y_test, y_test_predict_lasso))"
      ],
      "metadata": {
        "colab": {
          "base_uri": "https://localhost:8080/"
        },
        "id": "Rg6zNdViSGOf",
        "outputId": "17e5b2ba-028d-4afe-b51f-7e7f3134bb7d"
      },
      "execution_count": 39,
      "outputs": [
        {
          "output_type": "stream",
          "name": "stdout",
          "text": [
            "0.7801747289151287\n"
          ]
        }
      ]
    },
    {
      "cell_type": "code",
      "source": [
        "# Cross Validation for Ridge\n",
        "from sklearn.linear_model import Ridge\n",
        "ridge = Ridge()\n",
        "parameters = {'alpha': [1e-15,1e-10,1e-8,1e-5,1e-4,1e-3,1e-2,1,5,10,20,30,40,45,50,55,60,100]}\n",
        "ridge_regressor = GridSearchCV(ridge, parameters, scoring='neg_mean_squared_error', cv=3)\n",
        "ridge_regressor.fit(x_train_poly,y_train)\n",
        "y_train_predicted_ridge = ridge_regressor.predict(x_train_poly)\n",
        "y_test_predict_ridge  = ridge_regressor.predict(poly_features.fit_transform(x_test))\n",
        "mean_squared_error(y_test, y_test_predict_ridge )\n",
        "from sklearn.metrics import r2_score\n",
        "print(r2_score(y_test, y_test_predict_ridge ))"
      ],
      "metadata": {
        "colab": {
          "base_uri": "https://localhost:8080/"
        },
        "id": "tt1P_u__SW7J",
        "outputId": "60422089-80b6-4d2c-e8b4-983059555a89"
      },
      "execution_count": 24,
      "outputs": [
        {
          "output_type": "stream",
          "name": "stdout",
          "text": [
            "0.6936546728036774\n"
          ]
        }
      ]
    },
    {
      "cell_type": "code",
      "source": [
        "# ElasticNetRegression\n",
        "from sklearn.linear_model import ElasticNet\n",
        "#a * L1 + b * L2\n",
        "#alpha = a + b and l1_ratio = a / (a + b)\n",
        "elasticnet = ElasticNet(alpha=0.1, l1_ratio=0.5)\n",
        "elasticnet.fit(x_train_poly,y_train)\n",
        "elasticnet.score(x_train_poly, y_train)\n",
        "y_pred_en = elasticnet.predict(poly_features.fit_transform(x_test))\n",
        "mean_squared_error(y_test, y_pred_en)\n",
        "from sklearn.metrics import r2_score\n",
        "print(r2_score(y_test, y_pred_en))"
      ],
      "metadata": {
        "colab": {
          "base_uri": "https://localhost:8080/"
        },
        "id": "QwoOpa5JUZnI",
        "outputId": "55da4877-f109-41c1-e2e4-f3302527850c"
      },
      "execution_count": 26,
      "outputs": [
        {
          "output_type": "stream",
          "name": "stdout",
          "text": [
            "0.6912473231909327\n"
          ]
        }
      ]
    },
    {
      "cell_type": "code",
      "source": [
        "# RandomForestClassifier\n",
        "from sklearn.ensemble import RandomForestClassifier\n",
        "# Number of trees\n",
        "n_estimators = [25,40,50]\n",
        "\n",
        "# Maximum depth of trees\n",
        "max_depth = [2,3,4]\n",
        "\n",
        "# Minimum number of samples required to split a node\n",
        "min_samples_split = [25,50,75]\n",
        "\n",
        "# Minimum number of samples required at each leaf node\n",
        "min_samples_leaf = [20,25]\n",
        "\n",
        "# HYperparameter Grid\n",
        "param_dict = {'n_estimators' : n_estimators,\n",
        "              'max_depth' : max_depth,\n",
        "              'min_samples_split' : min_samples_split,\n",
        "              'min_samples_leaf' : min_samples_leaf}\n",
        "rf_model = RandomForestClassifier()\n",
        "rf_grid = GridSearchCV(estimator=rf_model,\n",
        "                       param_grid = param_dict,\n",
        "                       cv = 5, verbose=2, scoring='roc_auc')\n",
        "rf_grid.fit(x_train_poly,y_train)\n",
        "rf_grid.best_estimator_\n",
        "rf_optimal_model = rf_grid.best_estimator_\n",
        "train_class_preds = rf_optimal_model.predict(x_train_poly)\n",
        "test_class_preds = rf_optimal_model.predict(poly_features.fit_transform(x_test))"
      ],
      "metadata": {
        "colab": {
          "base_uri": "https://localhost:8080/"
        },
        "id": "lrXjEjqkgCQa",
        "outputId": "eefce797-bbb3-41fe-f3f0-f6584c470a87"
      },
      "execution_count": 45,
      "outputs": [
        {
          "output_type": "stream",
          "name": "stdout",
          "text": [
            "Fitting 5 folds for each of 54 candidates, totalling 270 fits\n",
            "[CV] END max_depth=2, min_samples_leaf=20, min_samples_split=25, n_estimators=25; total time=   1.3s\n",
            "[CV] END max_depth=2, min_samples_leaf=20, min_samples_split=25, n_estimators=25; total time=   1.7s\n",
            "[CV] END max_depth=2, min_samples_leaf=20, min_samples_split=25, n_estimators=25; total time=   0.9s\n",
            "[CV] END max_depth=2, min_samples_leaf=20, min_samples_split=25, n_estimators=25; total time=   0.9s\n",
            "[CV] END max_depth=2, min_samples_leaf=20, min_samples_split=25, n_estimators=25; total time=   0.9s\n",
            "[CV] END max_depth=2, min_samples_leaf=20, min_samples_split=25, n_estimators=40; total time=   1.6s\n",
            "[CV] END max_depth=2, min_samples_leaf=20, min_samples_split=25, n_estimators=40; total time=   1.4s\n",
            "[CV] END max_depth=2, min_samples_leaf=20, min_samples_split=25, n_estimators=40; total time=   1.6s\n",
            "[CV] END max_depth=2, min_samples_leaf=20, min_samples_split=25, n_estimators=40; total time=   1.5s\n",
            "[CV] END max_depth=2, min_samples_leaf=20, min_samples_split=25, n_estimators=40; total time=   1.4s\n",
            "[CV] END max_depth=2, min_samples_leaf=20, min_samples_split=25, n_estimators=50; total time=   1.8s\n",
            "[CV] END max_depth=2, min_samples_leaf=20, min_samples_split=25, n_estimators=50; total time=   1.9s\n",
            "[CV] END max_depth=2, min_samples_leaf=20, min_samples_split=25, n_estimators=50; total time=   1.8s\n",
            "[CV] END max_depth=2, min_samples_leaf=20, min_samples_split=25, n_estimators=50; total time=   1.8s\n",
            "[CV] END max_depth=2, min_samples_leaf=20, min_samples_split=25, n_estimators=50; total time=   1.8s\n",
            "[CV] END max_depth=2, min_samples_leaf=20, min_samples_split=50, n_estimators=25; total time=   1.0s\n",
            "[CV] END max_depth=2, min_samples_leaf=20, min_samples_split=50, n_estimators=25; total time=   0.9s\n",
            "[CV] END max_depth=2, min_samples_leaf=20, min_samples_split=50, n_estimators=25; total time=   1.0s\n",
            "[CV] END max_depth=2, min_samples_leaf=20, min_samples_split=50, n_estimators=25; total time=   0.9s\n",
            "[CV] END max_depth=2, min_samples_leaf=20, min_samples_split=50, n_estimators=25; total time=   0.9s\n",
            "[CV] END max_depth=2, min_samples_leaf=20, min_samples_split=50, n_estimators=40; total time=   1.5s\n",
            "[CV] END max_depth=2, min_samples_leaf=20, min_samples_split=50, n_estimators=40; total time=   1.5s\n",
            "[CV] END max_depth=2, min_samples_leaf=20, min_samples_split=50, n_estimators=40; total time=   1.5s\n",
            "[CV] END max_depth=2, min_samples_leaf=20, min_samples_split=50, n_estimators=40; total time=   1.5s\n",
            "[CV] END max_depth=2, min_samples_leaf=20, min_samples_split=50, n_estimators=40; total time=   1.6s\n",
            "[CV] END max_depth=2, min_samples_leaf=20, min_samples_split=50, n_estimators=50; total time=   1.9s\n",
            "[CV] END max_depth=2, min_samples_leaf=20, min_samples_split=50, n_estimators=50; total time=   1.8s\n",
            "[CV] END max_depth=2, min_samples_leaf=20, min_samples_split=50, n_estimators=50; total time=   1.8s\n",
            "[CV] END max_depth=2, min_samples_leaf=20, min_samples_split=50, n_estimators=50; total time=   1.8s\n",
            "[CV] END max_depth=2, min_samples_leaf=20, min_samples_split=50, n_estimators=50; total time=   1.9s\n",
            "[CV] END max_depth=2, min_samples_leaf=20, min_samples_split=75, n_estimators=25; total time=   1.0s\n",
            "[CV] END max_depth=2, min_samples_leaf=20, min_samples_split=75, n_estimators=25; total time=   1.0s\n",
            "[CV] END max_depth=2, min_samples_leaf=20, min_samples_split=75, n_estimators=25; total time=   0.9s\n",
            "[CV] END max_depth=2, min_samples_leaf=20, min_samples_split=75, n_estimators=25; total time=   0.9s\n",
            "[CV] END max_depth=2, min_samples_leaf=20, min_samples_split=75, n_estimators=25; total time=   0.9s\n",
            "[CV] END max_depth=2, min_samples_leaf=20, min_samples_split=75, n_estimators=40; total time=   1.5s\n",
            "[CV] END max_depth=2, min_samples_leaf=20, min_samples_split=75, n_estimators=40; total time=   1.5s\n",
            "[CV] END max_depth=2, min_samples_leaf=20, min_samples_split=75, n_estimators=40; total time=   1.5s\n",
            "[CV] END max_depth=2, min_samples_leaf=20, min_samples_split=75, n_estimators=40; total time=   1.3s\n",
            "[CV] END max_depth=2, min_samples_leaf=20, min_samples_split=75, n_estimators=40; total time=   1.5s\n",
            "[CV] END max_depth=2, min_samples_leaf=20, min_samples_split=75, n_estimators=50; total time=   1.9s\n",
            "[CV] END max_depth=2, min_samples_leaf=20, min_samples_split=75, n_estimators=50; total time=   1.8s\n",
            "[CV] END max_depth=2, min_samples_leaf=20, min_samples_split=75, n_estimators=50; total time=   1.9s\n",
            "[CV] END max_depth=2, min_samples_leaf=20, min_samples_split=75, n_estimators=50; total time=   2.0s\n",
            "[CV] END max_depth=2, min_samples_leaf=20, min_samples_split=75, n_estimators=50; total time=   2.0s\n",
            "[CV] END max_depth=2, min_samples_leaf=25, min_samples_split=25, n_estimators=25; total time=   0.9s\n",
            "[CV] END max_depth=2, min_samples_leaf=25, min_samples_split=25, n_estimators=25; total time=   0.9s\n",
            "[CV] END max_depth=2, min_samples_leaf=25, min_samples_split=25, n_estimators=25; total time=   1.0s\n",
            "[CV] END max_depth=2, min_samples_leaf=25, min_samples_split=25, n_estimators=25; total time=   1.0s\n",
            "[CV] END max_depth=2, min_samples_leaf=25, min_samples_split=25, n_estimators=25; total time=   0.9s\n",
            "[CV] END max_depth=2, min_samples_leaf=25, min_samples_split=25, n_estimators=40; total time=   1.6s\n",
            "[CV] END max_depth=2, min_samples_leaf=25, min_samples_split=25, n_estimators=40; total time=   1.4s\n",
            "[CV] END max_depth=2, min_samples_leaf=25, min_samples_split=25, n_estimators=40; total time=   1.4s\n",
            "[CV] END max_depth=2, min_samples_leaf=25, min_samples_split=25, n_estimators=40; total time=   1.4s\n",
            "[CV] END max_depth=2, min_samples_leaf=25, min_samples_split=25, n_estimators=40; total time=   1.6s\n",
            "[CV] END max_depth=2, min_samples_leaf=25, min_samples_split=25, n_estimators=50; total time=   1.9s\n",
            "[CV] END max_depth=2, min_samples_leaf=25, min_samples_split=25, n_estimators=50; total time=   1.9s\n",
            "[CV] END max_depth=2, min_samples_leaf=25, min_samples_split=25, n_estimators=50; total time=   1.9s\n",
            "[CV] END max_depth=2, min_samples_leaf=25, min_samples_split=25, n_estimators=50; total time=   1.8s\n",
            "[CV] END max_depth=2, min_samples_leaf=25, min_samples_split=25, n_estimators=50; total time=   1.9s\n",
            "[CV] END max_depth=2, min_samples_leaf=25, min_samples_split=50, n_estimators=25; total time=   0.9s\n",
            "[CV] END max_depth=2, min_samples_leaf=25, min_samples_split=50, n_estimators=25; total time=   1.0s\n",
            "[CV] END max_depth=2, min_samples_leaf=25, min_samples_split=50, n_estimators=25; total time=   1.0s\n",
            "[CV] END max_depth=2, min_samples_leaf=25, min_samples_split=50, n_estimators=25; total time=   0.9s\n",
            "[CV] END max_depth=2, min_samples_leaf=25, min_samples_split=50, n_estimators=25; total time=   1.0s\n",
            "[CV] END max_depth=2, min_samples_leaf=25, min_samples_split=50, n_estimators=40; total time=   1.6s\n",
            "[CV] END max_depth=2, min_samples_leaf=25, min_samples_split=50, n_estimators=40; total time=   1.4s\n",
            "[CV] END max_depth=2, min_samples_leaf=25, min_samples_split=50, n_estimators=40; total time=   1.5s\n",
            "[CV] END max_depth=2, min_samples_leaf=25, min_samples_split=50, n_estimators=40; total time=   1.3s\n",
            "[CV] END max_depth=2, min_samples_leaf=25, min_samples_split=50, n_estimators=40; total time=   1.5s\n",
            "[CV] END max_depth=2, min_samples_leaf=25, min_samples_split=50, n_estimators=50; total time=   1.9s\n",
            "[CV] END max_depth=2, min_samples_leaf=25, min_samples_split=50, n_estimators=50; total time=   1.9s\n",
            "[CV] END max_depth=2, min_samples_leaf=25, min_samples_split=50, n_estimators=50; total time=   1.9s\n",
            "[CV] END max_depth=2, min_samples_leaf=25, min_samples_split=50, n_estimators=50; total time=   1.9s\n",
            "[CV] END max_depth=2, min_samples_leaf=25, min_samples_split=50, n_estimators=50; total time=   2.3s\n",
            "[CV] END max_depth=2, min_samples_leaf=25, min_samples_split=75, n_estimators=25; total time=   1.0s\n",
            "[CV] END max_depth=2, min_samples_leaf=25, min_samples_split=75, n_estimators=25; total time=   0.9s\n",
            "[CV] END max_depth=2, min_samples_leaf=25, min_samples_split=75, n_estimators=25; total time=   0.9s\n",
            "[CV] END max_depth=2, min_samples_leaf=25, min_samples_split=75, n_estimators=25; total time=   0.9s\n",
            "[CV] END max_depth=2, min_samples_leaf=25, min_samples_split=75, n_estimators=25; total time=   1.0s\n",
            "[CV] END max_depth=2, min_samples_leaf=25, min_samples_split=75, n_estimators=40; total time=   1.6s\n",
            "[CV] END max_depth=2, min_samples_leaf=25, min_samples_split=75, n_estimators=40; total time=   1.6s\n",
            "[CV] END max_depth=2, min_samples_leaf=25, min_samples_split=75, n_estimators=40; total time=   1.5s\n",
            "[CV] END max_depth=2, min_samples_leaf=25, min_samples_split=75, n_estimators=40; total time=   1.5s\n",
            "[CV] END max_depth=2, min_samples_leaf=25, min_samples_split=75, n_estimators=40; total time=   1.6s\n",
            "[CV] END max_depth=2, min_samples_leaf=25, min_samples_split=75, n_estimators=50; total time=   1.9s\n",
            "[CV] END max_depth=2, min_samples_leaf=25, min_samples_split=75, n_estimators=50; total time=   1.7s\n",
            "[CV] END max_depth=2, min_samples_leaf=25, min_samples_split=75, n_estimators=50; total time=   2.7s\n",
            "[CV] END max_depth=2, min_samples_leaf=25, min_samples_split=75, n_estimators=50; total time=   2.0s\n",
            "[CV] END max_depth=2, min_samples_leaf=25, min_samples_split=75, n_estimators=50; total time=   1.8s\n",
            "[CV] END max_depth=3, min_samples_leaf=20, min_samples_split=25, n_estimators=25; total time=   1.4s\n",
            "[CV] END max_depth=3, min_samples_leaf=20, min_samples_split=25, n_estimators=25; total time=   1.3s\n",
            "[CV] END max_depth=3, min_samples_leaf=20, min_samples_split=25, n_estimators=25; total time=   1.4s\n",
            "[CV] END max_depth=3, min_samples_leaf=20, min_samples_split=25, n_estimators=25; total time=   1.4s\n",
            "[CV] END max_depth=3, min_samples_leaf=20, min_samples_split=25, n_estimators=25; total time=   1.3s\n",
            "[CV] END max_depth=3, min_samples_leaf=20, min_samples_split=25, n_estimators=40; total time=   2.2s\n",
            "[CV] END max_depth=3, min_samples_leaf=20, min_samples_split=25, n_estimators=40; total time=   2.1s\n",
            "[CV] END max_depth=3, min_samples_leaf=20, min_samples_split=25, n_estimators=40; total time=   2.4s\n",
            "[CV] END max_depth=3, min_samples_leaf=20, min_samples_split=25, n_estimators=40; total time=   2.3s\n",
            "[CV] END max_depth=3, min_samples_leaf=20, min_samples_split=25, n_estimators=40; total time=   2.4s\n",
            "[CV] END max_depth=3, min_samples_leaf=20, min_samples_split=25, n_estimators=50; total time=   2.9s\n",
            "[CV] END max_depth=3, min_samples_leaf=20, min_samples_split=25, n_estimators=50; total time=   2.7s\n",
            "[CV] END max_depth=3, min_samples_leaf=20, min_samples_split=25, n_estimators=50; total time=   2.7s\n",
            "[CV] END max_depth=3, min_samples_leaf=20, min_samples_split=25, n_estimators=50; total time=   2.8s\n",
            "[CV] END max_depth=3, min_samples_leaf=20, min_samples_split=25, n_estimators=50; total time=   2.9s\n",
            "[CV] END max_depth=3, min_samples_leaf=20, min_samples_split=50, n_estimators=25; total time=   1.3s\n",
            "[CV] END max_depth=3, min_samples_leaf=20, min_samples_split=50, n_estimators=25; total time=   1.2s\n",
            "[CV] END max_depth=3, min_samples_leaf=20, min_samples_split=50, n_estimators=25; total time=   1.3s\n",
            "[CV] END max_depth=3, min_samples_leaf=20, min_samples_split=50, n_estimators=25; total time=   1.3s\n",
            "[CV] END max_depth=3, min_samples_leaf=20, min_samples_split=50, n_estimators=25; total time=   1.5s\n",
            "[CV] END max_depth=3, min_samples_leaf=20, min_samples_split=50, n_estimators=40; total time=   2.3s\n",
            "[CV] END max_depth=3, min_samples_leaf=20, min_samples_split=50, n_estimators=40; total time=   2.1s\n",
            "[CV] END max_depth=3, min_samples_leaf=20, min_samples_split=50, n_estimators=40; total time=   2.3s\n",
            "[CV] END max_depth=3, min_samples_leaf=20, min_samples_split=50, n_estimators=40; total time=   2.1s\n",
            "[CV] END max_depth=3, min_samples_leaf=20, min_samples_split=50, n_estimators=40; total time=   2.2s\n",
            "[CV] END max_depth=3, min_samples_leaf=20, min_samples_split=50, n_estimators=50; total time=   2.6s\n",
            "[CV] END max_depth=3, min_samples_leaf=20, min_samples_split=50, n_estimators=50; total time=   2.9s\n",
            "[CV] END max_depth=3, min_samples_leaf=20, min_samples_split=50, n_estimators=50; total time=   2.9s\n",
            "[CV] END max_depth=3, min_samples_leaf=20, min_samples_split=50, n_estimators=50; total time=   2.8s\n",
            "[CV] END max_depth=3, min_samples_leaf=20, min_samples_split=50, n_estimators=50; total time=   2.7s\n",
            "[CV] END max_depth=3, min_samples_leaf=20, min_samples_split=75, n_estimators=25; total time=   1.3s\n",
            "[CV] END max_depth=3, min_samples_leaf=20, min_samples_split=75, n_estimators=25; total time=   1.4s\n",
            "[CV] END max_depth=3, min_samples_leaf=20, min_samples_split=75, n_estimators=25; total time=   1.4s\n",
            "[CV] END max_depth=3, min_samples_leaf=20, min_samples_split=75, n_estimators=25; total time=   1.4s\n",
            "[CV] END max_depth=3, min_samples_leaf=20, min_samples_split=75, n_estimators=25; total time=   1.4s\n",
            "[CV] END max_depth=3, min_samples_leaf=20, min_samples_split=75, n_estimators=40; total time=   2.3s\n",
            "[CV] END max_depth=3, min_samples_leaf=20, min_samples_split=75, n_estimators=40; total time=   2.2s\n",
            "[CV] END max_depth=3, min_samples_leaf=20, min_samples_split=75, n_estimators=40; total time=   2.1s\n",
            "[CV] END max_depth=3, min_samples_leaf=20, min_samples_split=75, n_estimators=40; total time=   2.2s\n",
            "[CV] END max_depth=3, min_samples_leaf=20, min_samples_split=75, n_estimators=40; total time=   2.3s\n",
            "[CV] END max_depth=3, min_samples_leaf=20, min_samples_split=75, n_estimators=50; total time=   2.6s\n",
            "[CV] END max_depth=3, min_samples_leaf=20, min_samples_split=75, n_estimators=50; total time=   2.8s\n",
            "[CV] END max_depth=3, min_samples_leaf=20, min_samples_split=75, n_estimators=50; total time=   2.7s\n",
            "[CV] END max_depth=3, min_samples_leaf=20, min_samples_split=75, n_estimators=50; total time=   2.6s\n",
            "[CV] END max_depth=3, min_samples_leaf=20, min_samples_split=75, n_estimators=50; total time=   2.8s\n",
            "[CV] END max_depth=3, min_samples_leaf=25, min_samples_split=25, n_estimators=25; total time=   1.3s\n",
            "[CV] END max_depth=3, min_samples_leaf=25, min_samples_split=25, n_estimators=25; total time=   1.4s\n",
            "[CV] END max_depth=3, min_samples_leaf=25, min_samples_split=25, n_estimators=25; total time=   1.4s\n",
            "[CV] END max_depth=3, min_samples_leaf=25, min_samples_split=25, n_estimators=25; total time=   1.3s\n",
            "[CV] END max_depth=3, min_samples_leaf=25, min_samples_split=25, n_estimators=25; total time=   1.2s\n",
            "[CV] END max_depth=3, min_samples_leaf=25, min_samples_split=25, n_estimators=40; total time=   2.1s\n",
            "[CV] END max_depth=3, min_samples_leaf=25, min_samples_split=25, n_estimators=40; total time=   2.3s\n",
            "[CV] END max_depth=3, min_samples_leaf=25, min_samples_split=25, n_estimators=40; total time=   2.1s\n",
            "[CV] END max_depth=3, min_samples_leaf=25, min_samples_split=25, n_estimators=40; total time=   2.3s\n",
            "[CV] END max_depth=3, min_samples_leaf=25, min_samples_split=25, n_estimators=40; total time=   2.2s\n",
            "[CV] END max_depth=3, min_samples_leaf=25, min_samples_split=25, n_estimators=50; total time=   2.8s\n",
            "[CV] END max_depth=3, min_samples_leaf=25, min_samples_split=25, n_estimators=50; total time=   2.7s\n",
            "[CV] END max_depth=3, min_samples_leaf=25, min_samples_split=25, n_estimators=50; total time=   2.6s\n",
            "[CV] END max_depth=3, min_samples_leaf=25, min_samples_split=25, n_estimators=50; total time=   2.8s\n",
            "[CV] END max_depth=3, min_samples_leaf=25, min_samples_split=25, n_estimators=50; total time=   2.7s\n",
            "[CV] END max_depth=3, min_samples_leaf=25, min_samples_split=50, n_estimators=25; total time=   1.4s\n",
            "[CV] END max_depth=3, min_samples_leaf=25, min_samples_split=50, n_estimators=25; total time=   1.3s\n",
            "[CV] END max_depth=3, min_samples_leaf=25, min_samples_split=50, n_estimators=25; total time=   1.4s\n",
            "[CV] END max_depth=3, min_samples_leaf=25, min_samples_split=50, n_estimators=25; total time=   1.2s\n",
            "[CV] END max_depth=3, min_samples_leaf=25, min_samples_split=50, n_estimators=25; total time=   1.3s\n",
            "[CV] END max_depth=3, min_samples_leaf=25, min_samples_split=50, n_estimators=40; total time=   2.3s\n",
            "[CV] END max_depth=3, min_samples_leaf=25, min_samples_split=50, n_estimators=40; total time=   2.1s\n",
            "[CV] END max_depth=3, min_samples_leaf=25, min_samples_split=50, n_estimators=40; total time=   2.1s\n",
            "[CV] END max_depth=3, min_samples_leaf=25, min_samples_split=50, n_estimators=40; total time=   2.1s\n",
            "[CV] END max_depth=3, min_samples_leaf=25, min_samples_split=50, n_estimators=40; total time=   2.0s\n",
            "[CV] END max_depth=3, min_samples_leaf=25, min_samples_split=50, n_estimators=50; total time=   3.0s\n",
            "[CV] END max_depth=3, min_samples_leaf=25, min_samples_split=50, n_estimators=50; total time=   2.4s\n",
            "[CV] END max_depth=3, min_samples_leaf=25, min_samples_split=50, n_estimators=50; total time=   2.8s\n",
            "[CV] END max_depth=3, min_samples_leaf=25, min_samples_split=50, n_estimators=50; total time=   2.8s\n",
            "[CV] END max_depth=3, min_samples_leaf=25, min_samples_split=50, n_estimators=50; total time=   2.9s\n",
            "[CV] END max_depth=3, min_samples_leaf=25, min_samples_split=75, n_estimators=25; total time=   1.4s\n",
            "[CV] END max_depth=3, min_samples_leaf=25, min_samples_split=75, n_estimators=25; total time=   1.4s\n",
            "[CV] END max_depth=3, min_samples_leaf=25, min_samples_split=75, n_estimators=25; total time=   1.4s\n",
            "[CV] END max_depth=3, min_samples_leaf=25, min_samples_split=75, n_estimators=25; total time=   1.3s\n",
            "[CV] END max_depth=3, min_samples_leaf=25, min_samples_split=75, n_estimators=25; total time=   1.3s\n",
            "[CV] END max_depth=3, min_samples_leaf=25, min_samples_split=75, n_estimators=40; total time=   2.3s\n",
            "[CV] END max_depth=3, min_samples_leaf=25, min_samples_split=75, n_estimators=40; total time=   2.3s\n",
            "[CV] END max_depth=3, min_samples_leaf=25, min_samples_split=75, n_estimators=40; total time=   2.1s\n",
            "[CV] END max_depth=3, min_samples_leaf=25, min_samples_split=75, n_estimators=40; total time=   2.3s\n",
            "[CV] END max_depth=3, min_samples_leaf=25, min_samples_split=75, n_estimators=40; total time=   2.2s\n",
            "[CV] END max_depth=3, min_samples_leaf=25, min_samples_split=75, n_estimators=50; total time=   2.6s\n",
            "[CV] END max_depth=3, min_samples_leaf=25, min_samples_split=75, n_estimators=50; total time=   2.9s\n",
            "[CV] END max_depth=3, min_samples_leaf=25, min_samples_split=75, n_estimators=50; total time=   2.7s\n",
            "[CV] END max_depth=3, min_samples_leaf=25, min_samples_split=75, n_estimators=50; total time=   2.9s\n",
            "[CV] END max_depth=3, min_samples_leaf=25, min_samples_split=75, n_estimators=50; total time=   2.7s\n",
            "[CV] END max_depth=4, min_samples_leaf=20, min_samples_split=25, n_estimators=25; total time=   1.7s\n",
            "[CV] END max_depth=4, min_samples_leaf=20, min_samples_split=25, n_estimators=25; total time=   1.9s\n",
            "[CV] END max_depth=4, min_samples_leaf=20, min_samples_split=25, n_estimators=25; total time=   1.7s\n",
            "[CV] END max_depth=4, min_samples_leaf=20, min_samples_split=25, n_estimators=25; total time=   1.9s\n",
            "[CV] END max_depth=4, min_samples_leaf=20, min_samples_split=25, n_estimators=25; total time=   2.0s\n",
            "[CV] END max_depth=4, min_samples_leaf=20, min_samples_split=25, n_estimators=40; total time=   2.9s\n",
            "[CV] END max_depth=4, min_samples_leaf=20, min_samples_split=25, n_estimators=40; total time=   2.8s\n",
            "[CV] END max_depth=4, min_samples_leaf=20, min_samples_split=25, n_estimators=40; total time=   2.9s\n",
            "[CV] END max_depth=4, min_samples_leaf=20, min_samples_split=25, n_estimators=40; total time=   3.1s\n",
            "[CV] END max_depth=4, min_samples_leaf=20, min_samples_split=25, n_estimators=40; total time=   3.0s\n",
            "[CV] END max_depth=4, min_samples_leaf=20, min_samples_split=25, n_estimators=50; total time=   3.8s\n",
            "[CV] END max_depth=4, min_samples_leaf=20, min_samples_split=25, n_estimators=50; total time=   3.8s\n",
            "[CV] END max_depth=4, min_samples_leaf=20, min_samples_split=25, n_estimators=50; total time=   3.7s\n",
            "[CV] END max_depth=4, min_samples_leaf=20, min_samples_split=25, n_estimators=50; total time=   3.8s\n",
            "[CV] END max_depth=4, min_samples_leaf=20, min_samples_split=25, n_estimators=50; total time=   3.9s\n",
            "[CV] END max_depth=4, min_samples_leaf=20, min_samples_split=50, n_estimators=25; total time=   1.9s\n",
            "[CV] END max_depth=4, min_samples_leaf=20, min_samples_split=50, n_estimators=25; total time=   1.8s\n",
            "[CV] END max_depth=4, min_samples_leaf=20, min_samples_split=50, n_estimators=25; total time=   1.8s\n",
            "[CV] END max_depth=4, min_samples_leaf=20, min_samples_split=50, n_estimators=25; total time=   1.9s\n",
            "[CV] END max_depth=4, min_samples_leaf=20, min_samples_split=50, n_estimators=25; total time=   1.9s\n",
            "[CV] END max_depth=4, min_samples_leaf=20, min_samples_split=50, n_estimators=40; total time=   2.8s\n",
            "[CV] END max_depth=4, min_samples_leaf=20, min_samples_split=50, n_estimators=40; total time=   3.0s\n",
            "[CV] END max_depth=4, min_samples_leaf=20, min_samples_split=50, n_estimators=40; total time=   2.9s\n",
            "[CV] END max_depth=4, min_samples_leaf=20, min_samples_split=50, n_estimators=40; total time=   3.0s\n",
            "[CV] END max_depth=4, min_samples_leaf=20, min_samples_split=50, n_estimators=40; total time=   2.9s\n",
            "[CV] END max_depth=4, min_samples_leaf=20, min_samples_split=50, n_estimators=50; total time=   3.8s\n",
            "[CV] END max_depth=4, min_samples_leaf=20, min_samples_split=50, n_estimators=50; total time=   3.6s\n",
            "[CV] END max_depth=4, min_samples_leaf=20, min_samples_split=50, n_estimators=50; total time=   3.6s\n",
            "[CV] END max_depth=4, min_samples_leaf=20, min_samples_split=50, n_estimators=50; total time=   3.6s\n",
            "[CV] END max_depth=4, min_samples_leaf=20, min_samples_split=50, n_estimators=50; total time=   3.7s\n",
            "[CV] END max_depth=4, min_samples_leaf=20, min_samples_split=75, n_estimators=25; total time=   1.8s\n",
            "[CV] END max_depth=4, min_samples_leaf=20, min_samples_split=75, n_estimators=25; total time=   2.0s\n",
            "[CV] END max_depth=4, min_samples_leaf=20, min_samples_split=75, n_estimators=25; total time=   1.9s\n",
            "[CV] END max_depth=4, min_samples_leaf=20, min_samples_split=75, n_estimators=25; total time=   1.9s\n",
            "[CV] END max_depth=4, min_samples_leaf=20, min_samples_split=75, n_estimators=25; total time=   1.8s\n",
            "[CV] END max_depth=4, min_samples_leaf=20, min_samples_split=75, n_estimators=40; total time=   3.2s\n",
            "[CV] END max_depth=4, min_samples_leaf=20, min_samples_split=75, n_estimators=40; total time=   3.0s\n",
            "[CV] END max_depth=4, min_samples_leaf=20, min_samples_split=75, n_estimators=40; total time=   2.9s\n",
            "[CV] END max_depth=4, min_samples_leaf=20, min_samples_split=75, n_estimators=40; total time=   3.0s\n",
            "[CV] END max_depth=4, min_samples_leaf=20, min_samples_split=75, n_estimators=40; total time=   3.0s\n",
            "[CV] END max_depth=4, min_samples_leaf=20, min_samples_split=75, n_estimators=50; total time=   3.8s\n",
            "[CV] END max_depth=4, min_samples_leaf=20, min_samples_split=75, n_estimators=50; total time=   3.8s\n",
            "[CV] END max_depth=4, min_samples_leaf=20, min_samples_split=75, n_estimators=50; total time=   3.5s\n",
            "[CV] END max_depth=4, min_samples_leaf=20, min_samples_split=75, n_estimators=50; total time=   3.8s\n",
            "[CV] END max_depth=4, min_samples_leaf=20, min_samples_split=75, n_estimators=50; total time=   3.9s\n",
            "[CV] END max_depth=4, min_samples_leaf=25, min_samples_split=25, n_estimators=25; total time=   1.8s\n",
            "[CV] END max_depth=4, min_samples_leaf=25, min_samples_split=25, n_estimators=25; total time=   1.9s\n",
            "[CV] END max_depth=4, min_samples_leaf=25, min_samples_split=25, n_estimators=25; total time=   2.0s\n",
            "[CV] END max_depth=4, min_samples_leaf=25, min_samples_split=25, n_estimators=25; total time=   1.9s\n",
            "[CV] END max_depth=4, min_samples_leaf=25, min_samples_split=25, n_estimators=25; total time=   1.9s\n",
            "[CV] END max_depth=4, min_samples_leaf=25, min_samples_split=25, n_estimators=40; total time=   3.0s\n",
            "[CV] END max_depth=4, min_samples_leaf=25, min_samples_split=25, n_estimators=40; total time=   3.2s\n",
            "[CV] END max_depth=4, min_samples_leaf=25, min_samples_split=25, n_estimators=40; total time=   3.0s\n",
            "[CV] END max_depth=4, min_samples_leaf=25, min_samples_split=25, n_estimators=40; total time=   3.0s\n",
            "[CV] END max_depth=4, min_samples_leaf=25, min_samples_split=25, n_estimators=40; total time=   2.9s\n",
            "[CV] END max_depth=4, min_samples_leaf=25, min_samples_split=25, n_estimators=50; total time=   3.7s\n",
            "[CV] END max_depth=4, min_samples_leaf=25, min_samples_split=25, n_estimators=50; total time=   3.6s\n",
            "[CV] END max_depth=4, min_samples_leaf=25, min_samples_split=25, n_estimators=50; total time=   3.6s\n",
            "[CV] END max_depth=4, min_samples_leaf=25, min_samples_split=25, n_estimators=50; total time=   3.6s\n",
            "[CV] END max_depth=4, min_samples_leaf=25, min_samples_split=25, n_estimators=50; total time=   3.7s\n",
            "[CV] END max_depth=4, min_samples_leaf=25, min_samples_split=50, n_estimators=25; total time=   1.8s\n",
            "[CV] END max_depth=4, min_samples_leaf=25, min_samples_split=50, n_estimators=25; total time=   1.9s\n",
            "[CV] END max_depth=4, min_samples_leaf=25, min_samples_split=50, n_estimators=25; total time=   1.7s\n",
            "[CV] END max_depth=4, min_samples_leaf=25, min_samples_split=50, n_estimators=25; total time=   1.9s\n",
            "[CV] END max_depth=4, min_samples_leaf=25, min_samples_split=50, n_estimators=25; total time=   1.9s\n",
            "[CV] END max_depth=4, min_samples_leaf=25, min_samples_split=50, n_estimators=40; total time=   3.1s\n",
            "[CV] END max_depth=4, min_samples_leaf=25, min_samples_split=50, n_estimators=40; total time=   3.0s\n",
            "[CV] END max_depth=4, min_samples_leaf=25, min_samples_split=50, n_estimators=40; total time=   3.0s\n",
            "[CV] END max_depth=4, min_samples_leaf=25, min_samples_split=50, n_estimators=40; total time=   3.0s\n",
            "[CV] END max_depth=4, min_samples_leaf=25, min_samples_split=50, n_estimators=40; total time=   2.9s\n",
            "[CV] END max_depth=4, min_samples_leaf=25, min_samples_split=50, n_estimators=50; total time=   3.8s\n",
            "[CV] END max_depth=4, min_samples_leaf=25, min_samples_split=50, n_estimators=50; total time=   3.8s\n",
            "[CV] END max_depth=4, min_samples_leaf=25, min_samples_split=50, n_estimators=50; total time=   3.5s\n",
            "[CV] END max_depth=4, min_samples_leaf=25, min_samples_split=50, n_estimators=50; total time=   3.6s\n",
            "[CV] END max_depth=4, min_samples_leaf=25, min_samples_split=50, n_estimators=50; total time=   3.8s\n",
            "[CV] END max_depth=4, min_samples_leaf=25, min_samples_split=75, n_estimators=25; total time=   1.7s\n",
            "[CV] END max_depth=4, min_samples_leaf=25, min_samples_split=75, n_estimators=25; total time=   1.9s\n",
            "[CV] END max_depth=4, min_samples_leaf=25, min_samples_split=75, n_estimators=25; total time=   1.9s\n",
            "[CV] END max_depth=4, min_samples_leaf=25, min_samples_split=75, n_estimators=25; total time=   1.8s\n",
            "[CV] END max_depth=4, min_samples_leaf=25, min_samples_split=75, n_estimators=25; total time=   1.7s\n",
            "[CV] END max_depth=4, min_samples_leaf=25, min_samples_split=75, n_estimators=40; total time=   3.0s\n",
            "[CV] END max_depth=4, min_samples_leaf=25, min_samples_split=75, n_estimators=40; total time=   2.9s\n",
            "[CV] END max_depth=4, min_samples_leaf=25, min_samples_split=75, n_estimators=40; total time=   2.8s\n",
            "[CV] END max_depth=4, min_samples_leaf=25, min_samples_split=75, n_estimators=40; total time=   2.8s\n",
            "[CV] END max_depth=4, min_samples_leaf=25, min_samples_split=75, n_estimators=40; total time=   2.9s\n",
            "[CV] END max_depth=4, min_samples_leaf=25, min_samples_split=75, n_estimators=50; total time=   4.0s\n",
            "[CV] END max_depth=4, min_samples_leaf=25, min_samples_split=75, n_estimators=50; total time=   3.5s\n",
            "[CV] END max_depth=4, min_samples_leaf=25, min_samples_split=75, n_estimators=50; total time=   3.6s\n",
            "[CV] END max_depth=4, min_samples_leaf=25, min_samples_split=75, n_estimators=50; total time=   3.5s\n",
            "[CV] END max_depth=4, min_samples_leaf=25, min_samples_split=75, n_estimators=50; total time=   3.6s\n"
          ]
        }
      ]
    },
    {
      "cell_type": "code",
      "source": [
        "from sklearn.metrics import accuracy_score,roc_auc_score,confusion_matrix\n",
        "train_accuracy = accuracy_score(y_train,train_class_preds)\n",
        "test_accuracy = accuracy_score(y_test,test_class_preds)\n",
        "print(train_accuracy)\n",
        "print(test_accuracy)"
      ],
      "metadata": {
        "colab": {
          "base_uri": "https://localhost:8080/"
        },
        "id": "Kwy3Y-oCgsMZ",
        "outputId": "5b7c8cf8-2f46-4695-f445-2809a712feee"
      },
      "execution_count": 46,
      "outputs": [
        {
          "output_type": "stream",
          "name": "stdout",
          "text": [
            "0.03724315068493151\n",
            "0.041666666666666664\n"
          ]
        }
      ]
    },
    {
      "cell_type": "code",
      "source": [
        "import pandas as pd\n",
        "from sklearn.metrics import accuracy_score, auc\n",
        "from sklearn.model_selection import train_test_split\n",
        "from sklearn.tree import DecisionTreeClassifier"
      ],
      "metadata": {
        "id": "11UONQe1Em72"
      },
      "execution_count": 41,
      "outputs": []
    },
    {
      "cell_type": "code",
      "source": [
        "X_train, X_test, y_train, y_test = train_test_split(x, y, test_size=0.2, random_state=350)\n",
        "humidity_classifier = DecisionTreeClassifier(criterion='entropy', max_leaf_nodes=50, random_state=350)\n",
        "humidity_classifier.fit(x_train_poly, y_train)\n",
        "y_predicted_dec = humidity_classifier.predict(poly_features.fit_transform(x_test))\n",
        "y_train_predicted_dec = humidity_classifier.predict(x_train_poly)\n"
      ],
      "metadata": {
        "id": "Yl9vF0spEuE0"
      },
      "execution_count": 51,
      "outputs": []
    },
    {
      "cell_type": "code",
      "source": [
        "print(accuracy_score(y_train, y_train_predicted_dec))\n",
        "print(accuracy_score(y_test, y_predicted_dec))"
      ],
      "metadata": {
        "colab": {
          "base_uri": "https://localhost:8080/"
        },
        "id": "bBiIwnAxFSnx",
        "outputId": "1e2d327d-9157-48f2-cc4b-933278c9f133"
      },
      "execution_count": 52,
      "outputs": [
        {
          "output_type": "stream",
          "name": "stdout",
          "text": [
            "0.03667237442922375\n",
            "0.0228310502283105\n"
          ]
        }
      ]
    },
    {
      "cell_type": "code",
      "source": [
        ""
      ],
      "metadata": {
        "id": "qHVr3rmpFMln"
      },
      "execution_count": null,
      "outputs": []
    }
  ]
}